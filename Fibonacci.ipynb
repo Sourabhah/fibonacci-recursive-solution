{
 "cells": [
  {
   "cell_type": "code",
   "execution_count": 27,
   "id": "9d265b32",
   "metadata": {},
   "outputs": [],
   "source": [
    "# Normal recursive function\n",
    "def fib(n):\n",
    "    if n ==1 or n==2:\n",
    "        return 1\n",
    "    \n",
    "    else:\n",
    "        result = fib(n-1) + fib(n-2)\n",
    "        \n",
    "    return result    "
   ]
  },
  {
   "cell_type": "code",
   "execution_count": 28,
   "id": "3b8ca400",
   "metadata": {},
   "outputs": [
    {
     "data": {
      "text/plain": [
       "55"
      ]
     },
     "execution_count": 28,
     "metadata": {},
     "output_type": "execute_result"
    }
   ],
   "source": [
    "fib(10)"
   ]
  },
  {
   "cell_type": "code",
   "execution_count": 29,
   "id": "5b188ba0",
   "metadata": {},
   "outputs": [
    {
     "data": {
      "text/plain": [
       "9227465"
      ]
     },
     "execution_count": 29,
     "metadata": {},
     "output_type": "execute_result"
    }
   ],
   "source": [
    "fib(35)"
   ]
  },
  {
   "cell_type": "code",
   "execution_count": 30,
   "id": "afbb390d",
   "metadata": {},
   "outputs": [],
   "source": [
    "#Memoized recursive solution\n",
    "def fib2(n,memo):\n",
    "    if memo[n] is not None:\n",
    "        return memo[n]\n",
    "    \n",
    "    if n==1 or n==2:\n",
    "        return 1\n",
    "    else:\n",
    "        result = fib2(n-1,memo) + fib2(n-2,memo)\n",
    "    memo[n]=result\n",
    "    return result\n",
    "\n",
    "def fib_memo(n):\n",
    "    memo = [None] * (n + 1)\n",
    "    return fib2(n, memo)"
   ]
  },
  {
   "cell_type": "code",
   "execution_count": 32,
   "id": "63fab576",
   "metadata": {},
   "outputs": [
    {
     "data": {
      "text/plain": [
       "9227465"
      ]
     },
     "execution_count": 32,
     "metadata": {},
     "output_type": "execute_result"
    }
   ],
   "source": [
    "fib_memo(35)"
   ]
  },
  {
   "cell_type": "code",
   "execution_count": 31,
   "id": "6e6f07de",
   "metadata": {},
   "outputs": [
    {
     "data": {
      "text/plain": [
       "354224848179261915075"
      ]
     },
     "execution_count": 31,
     "metadata": {},
     "output_type": "execute_result"
    }
   ],
   "source": [
    "fib_memo(100)"
   ]
  },
  {
   "cell_type": "code",
   "execution_count": 1,
   "id": "00350add",
   "metadata": {},
   "outputs": [],
   "source": [
    "#dynamic recursive[bottoms_up] solution\n",
    "def fib_bottom_up(n):\n",
    "    if n ==1 or n==2:\n",
    "        return 1\n",
    "    \n",
    "    dp = [None]*(n+1)\n",
    "    dp[1]=1\n",
    "    dp[2]=1\n",
    "    \n",
    "    for i in range(3,n+1):\n",
    "        dp[i]=dp[i-1]+dp[i-2]\n",
    "    return dp[n]    "
   ]
  },
  {
   "cell_type": "code",
   "execution_count": 4,
   "id": "37b3f901",
   "metadata": {},
   "outputs": [
    {
     "data": {
      "text/plain": [
       "43466557686937456435688527675040625802564660517371780402481729089536555417949051890403879840079255169295922593080322634775209689623239873322471161642996440906533187938298969649928516003704476137795166849228875"
      ]
     },
     "execution_count": 4,
     "metadata": {},
     "output_type": "execute_result"
    }
   ],
   "source": [
    "fib_bottom_up(1000)"
   ]
  }
 ],
 "metadata": {
  "kernelspec": {
   "display_name": "Python 3 (ipykernel)",
   "language": "python",
   "name": "python3"
  },
  "language_info": {
   "codemirror_mode": {
    "name": "ipython",
    "version": 3
   },
   "file_extension": ".py",
   "mimetype": "text/x-python",
   "name": "python",
   "nbconvert_exporter": "python",
   "pygments_lexer": "ipython3",
   "version": "3.9.12"
  }
 },
 "nbformat": 4,
 "nbformat_minor": 5
}
